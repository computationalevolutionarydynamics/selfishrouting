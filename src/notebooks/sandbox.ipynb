{
 "cells": [
  {
   "cell_type": "code",
   "execution_count": 1,
   "metadata": {
    "collapsed": false
   },
   "outputs": [
    {
     "name": "stdout",
     "output_type": "stream",
     "text": [
      "Populating the interactive namespace from numpy and matplotlib\n"
     ]
    }
   ],
   "source": [
    "%pylab inline"
   ]
  },
  {
   "cell_type": "code",
   "execution_count": 2,
   "metadata": {
    "collapsed": true
   },
   "outputs": [],
   "source": [
    "my_array = np.array([1, 1, 2, 2, 1, 1])"
   ]
  },
  {
   "cell_type": "code",
   "execution_count": 4,
   "metadata": {
    "collapsed": false
   },
   "outputs": [
    {
     "data": {
      "text/plain": [
       "1"
      ]
     },
     "execution_count": 4,
     "metadata": {},
     "output_type": "execute_result"
    }
   ],
   "source": [
    "len(np.where(my_array == 1))"
   ]
  },
  {
   "cell_type": "code",
   "execution_count": 15,
   "metadata": {
    "collapsed": false
   },
   "outputs": [
    {
     "name": "stdout",
     "output_type": "stream",
     "text": [
      "The slowest run took 13.80 times longer than the fastest. This could mean that an intermediate result is being cached \n",
      "100000 loops, best of 3: 3.93 µs per loop\n"
     ]
    }
   ],
   "source": [
    "%%timeit\n",
    "array = 3*np.array([2, 3])\n",
    "a = np.exp(array[0])\n",
    "b= np.exp(array[1])"
   ]
  },
  {
   "cell_type": "code",
   "execution_count": 18,
   "metadata": {
    "collapsed": false
   },
   "outputs": [
    {
     "name": "stdout",
     "output_type": "stream",
     "text": [
      "The slowest run took 11.92 times longer than the fastest. This could mean that an intermediate result is being cached \n",
      "100000 loops, best of 3: 4.06 µs per loop\n"
     ]
    }
   ],
   "source": [
    "%%timeit\n",
    "array = 3*np.array([2, 3])\n",
    "a, b = np.exp(array)"
   ]
  },
  {
   "cell_type": "code",
   "execution_count": 10,
   "metadata": {
    "collapsed": false
   },
   "outputs": [
    {
     "data": {
      "text/plain": [
       "8103.0839275753842"
      ]
     },
     "execution_count": 10,
     "metadata": {},
     "output_type": "execute_result"
    }
   ],
   "source": [
    "np.exp(9)"
   ]
  },
  {
   "cell_type": "code",
   "execution_count": 73,
   "metadata": {
    "collapsed": true
   },
   "outputs": [],
   "source": [
    "%run ../python/selfish_routing.py"
   ]
  },
  {
   "cell_type": "code",
   "execution_count": 76,
   "metadata": {
    "collapsed": true
   },
   "outputs": [],
   "source": [
    "test = MoranProcess(2, 10, 1, 2, 3, 4, 5)"
   ]
  },
  {
   "cell_type": "code",
   "execution_count": 77,
   "metadata": {
    "collapsed": false
   },
   "outputs": [
    {
     "data": {
      "text/plain": [
       "array([ 1.,  1.,  1.,  2.,  2.,  1.,  1.,  1.,  1.,  2.])"
      ]
     },
     "execution_count": 77,
     "metadata": {},
     "output_type": "execute_result"
    }
   ],
   "source": [
    "test.population"
   ]
  },
  {
   "cell_type": "code",
   "execution_count": 78,
   "metadata": {
    "collapsed": false
   },
   "outputs": [
    {
     "name": "stdout",
     "output_type": "stream",
     "text": [
      "Initial population\n",
      "[ 1.  1.  1.  2.  2.  1.  1.  1.  1.  2.]\n",
      "Individual selected and died\n",
      "Population after the death\n",
      "[ 1.  1.  2.  2.  1.  1.  1.  1.  2.]\n",
      "Individual reproduced based upon the fitness function\n",
      "[ 1.  1.  2.  2.  1.  1.  1.  1.  2.  1.]\n",
      "\n",
      "\n",
      "Initial population\n",
      "[ 1.  1.  2.  2.  1.  1.  1.  1.  2.  1.]\n",
      "Individual selected and died\n",
      "Population after the death\n",
      "[ 1.  2.  2.  1.  1.  1.  1.  2.  1.]\n",
      "Individual reproduced based upon the fitness function\n",
      "[ 1.  2.  2.  1.  1.  1.  1.  2.  1.  1.]\n",
      "\n",
      "\n",
      "Initial population\n",
      "[ 1.  2.  2.  1.  1.  1.  1.  2.  1.  1.]\n",
      "Individual selected and died\n",
      "Population after the death\n",
      "[ 1.  2.  1.  1.  1.  1.  2.  1.  1.]\n",
      "Individual reproduced based upon the fitness function\n",
      "[ 1.  2.  1.  1.  1.  1.  2.  1.  1.  1.]\n",
      "\n",
      "\n",
      "Initial population\n",
      "[ 1.  2.  1.  1.  1.  1.  2.  1.  1.  1.]\n",
      "Individual selected and died\n",
      "Population after the death\n",
      "[ 1.  1.  1.  1.  1.  2.  1.  1.  1.]\n",
      "Individual reproduced based upon the fitness function\n",
      "[ 1.  1.  1.  1.  1.  2.  1.  1.  1.  2.]\n",
      "\n",
      "\n",
      "Initial population\n",
      "[ 1.  1.  1.  1.  1.  2.  1.  1.  1.  2.]\n",
      "Individual selected and died\n",
      "Population after the death\n",
      "[ 1.  1.  1.  1.  2.  1.  1.  1.  2.]\n",
      "Individual reproduced based upon the fitness function\n",
      "[ 1.  1.  1.  1.  2.  1.  1.  1.  2.  2.]\n",
      "\n",
      "\n",
      "Initial population\n",
      "[ 1.  1.  1.  1.  2.  1.  1.  1.  2.  2.]\n",
      "Individual selected and died\n",
      "Population after the death\n",
      "[ 1.  1.  1.  2.  1.  1.  1.  2.  2.]\n",
      "Individual reproduced based upon the fitness function\n",
      "[ 1.  1.  1.  2.  1.  1.  1.  2.  2.  2.]\n",
      "\n",
      "\n",
      "Initial population\n",
      "[ 1.  1.  1.  2.  1.  1.  1.  2.  2.  2.]\n",
      "Individual selected and died\n",
      "Population after the death\n",
      "[ 1.  1.  2.  1.  1.  1.  2.  2.  2.]\n",
      "Individual reproduced based upon the fitness function\n",
      "[ 1.  1.  2.  1.  1.  1.  2.  2.  2.  1.]\n",
      "\n",
      "\n",
      "Initial population\n",
      "[ 1.  1.  2.  1.  1.  1.  2.  2.  2.  1.]\n",
      "Individual selected and died\n",
      "Population after the death\n",
      "[ 1.  1.  1.  1.  1.  2.  2.  2.  1.]\n",
      "Individual reproduced based upon the fitness function\n",
      "[ 1.  1.  1.  1.  1.  2.  2.  2.  1.  2.]\n",
      "\n",
      "\n",
      "Initial population\n",
      "[ 1.  1.  1.  1.  1.  2.  2.  2.  1.  2.]\n",
      "Individual selected and died\n",
      "Population after the death\n",
      "[ 1.  1.  1.  1.  2.  2.  2.  1.  2.]\n",
      "Individual reproduced based upon the fitness function\n",
      "[ 1.  1.  1.  1.  2.  2.  2.  1.  2.  1.]\n",
      "\n",
      "\n"
     ]
    }
   ],
   "source": [
    "for i in range(1, 10):\n",
    "    test.step()"
   ]
  },
  {
   "cell_type": "code",
   "execution_count": 34,
   "metadata": {
    "collapsed": false
   },
   "outputs": [
    {
     "data": {
      "text/plain": [
       "(0.36457644074163931, 0.63542355925836058)"
      ]
     },
     "execution_count": 34,
     "metadata": {},
     "output_type": "execute_result"
    }
   ],
   "source": [
    "probability_distribution = test._MoranProcess__compute_fitness()\n",
    "probability_distribution"
   ]
  },
  {
   "cell_type": "code",
   "execution_count": 72,
   "metadata": {
    "collapsed": false
   },
   "outputs": [
    {
     "data": {
      "text/plain": [
       "2"
      ]
     },
     "execution_count": 72,
     "metadata": {},
     "output_type": "execute_result"
    }
   ],
   "source": [
    "np.random.choice([1, 2], p= (0.5, 0.5))"
   ]
  },
  {
   "cell_type": "code",
   "execution_count": 32,
   "metadata": {
    "collapsed": false
   },
   "outputs": [
    {
     "ename": "TypeError",
     "evalue": "choose() got an unexpected keyword argument 'p'",
     "output_type": "error",
     "traceback": [
      "\u001b[0;31m---------------------------------------------------------------------------\u001b[0m",
      "\u001b[0;31mTypeError\u001b[0m                                 Traceback (most recent call last)",
      "\u001b[0;32m<ipython-input-32-478af48eeaea>\u001b[0m in \u001b[0;36m<module>\u001b[0;34m()\u001b[0m\n\u001b[0;32m----> 1\u001b[0;31m \u001b[0mnp\u001b[0m\u001b[0;34m.\u001b[0m\u001b[0mchoose\u001b[0m\u001b[0;34m(\u001b[0m\u001b[0;36m1\u001b[0m\u001b[0;34m,\u001b[0m \u001b[0;34m[\u001b[0m\u001b[0;36m1\u001b[0m\u001b[0;34m,\u001b[0m \u001b[0;36m2\u001b[0m\u001b[0;34m]\u001b[0m\u001b[0;34m,\u001b[0m \u001b[0mp\u001b[0m\u001b[0;34m=\u001b[0m\u001b[0mprobability_distribution\u001b[0m\u001b[0;34m)\u001b[0m\u001b[0;34m\u001b[0m\u001b[0m\n\u001b[0m",
      "\u001b[0;31mTypeError\u001b[0m: choose() got an unexpected keyword argument 'p'"
     ]
    }
   ],
   "source": [
    "np.choose(1, [1, 2], p=probability_distribution)"
   ]
  },
  {
   "cell_type": "code",
   "execution_count": null,
   "metadata": {
    "collapsed": true
   },
   "outputs": [],
   "source": []
  }
 ],
 "metadata": {
  "kernelspec": {
   "display_name": "Python 3",
   "language": "python",
   "name": "python3"
  },
  "language_info": {
   "codemirror_mode": {
    "name": "ipython",
    "version": 3
   },
   "file_extension": ".py",
   "mimetype": "text/x-python",
   "name": "python",
   "nbconvert_exporter": "python",
   "pygments_lexer": "ipython3",
   "version": "3.3.5"
  }
 },
 "nbformat": 4,
 "nbformat_minor": 0
}

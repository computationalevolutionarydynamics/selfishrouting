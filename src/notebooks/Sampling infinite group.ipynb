{
 "cells": [
  {
   "cell_type": "code",
   "execution_count": 1,
   "metadata": {
    "collapsed": false
   },
   "outputs": [
    {
     "name": "stdout",
     "output_type": "stream",
     "text": [
      "Populating the interactive namespace from numpy and matplotlib\n"
     ]
    }
   ],
   "source": [
    "%pylab inline"
   ]
  },
  {
   "cell_type": "markdown",
   "metadata": {},
   "source": [
    "Suppose I have the population given by [0.2, 0.3, 0.5, 0]"
   ]
  },
  {
   "cell_type": "code",
   "execution_count": 64,
   "metadata": {
    "collapsed": true
   },
   "outputs": [],
   "source": [
    "pop_fraction= [0.5, 0.2, 0.3]"
   ]
  },
  {
   "cell_type": "code",
   "execution_count": 65,
   "metadata": {
    "collapsed": true
   },
   "outputs": [],
   "source": [
    "%run ../python/network.py\n",
    "%run ../python/selfish_routing.py"
   ]
  },
  {
   "cell_type": "code",
   "execution_count": 66,
   "metadata": {
    "collapsed": true
   },
   "outputs": [],
   "source": [
    "G = create_braess_network()"
   ]
  },
  {
   "cell_type": "code",
   "execution_count": 67,
   "metadata": {
    "collapsed": true
   },
   "outputs": [],
   "source": [
    "test = Network(G, 3)"
   ]
  },
  {
   "cell_type": "code",
   "execution_count": 68,
   "metadata": {
    "collapsed": false
   },
   "outputs": [
    {
     "data": {
      "text/plain": [
       "{(0, 0, 0, 3): array([ 0,  0,  0, 13]),\n",
       " (0, 0, 1, 2): array([ 0,  0,  4, 13]),\n",
       " (0, 0, 2, 1): array([ 0,  0,  5, 13]),\n",
       " (0, 0, 3, 0): array([0, 0, 6, 0]),\n",
       " (0, 1, 0, 2): array([ 0, 11,  0, 12]),\n",
       " (0, 1, 1, 1): array([ 0, 12,  4, 12]),\n",
       " (0, 1, 2, 0): array([ 0, 13,  5,  0]),\n",
       " (0, 2, 0, 1): array([ 0, 12,  0, 11]),\n",
       " (0, 2, 1, 0): array([ 0, 13,  4,  0]),\n",
       " (0, 3, 0, 0): array([ 0, 13,  0,  0]),\n",
       " (1, 0, 0, 2): array([20,  0,  0, 12]),\n",
       " (1, 0, 1, 1): array([20,  0,  3, 12]),\n",
       " (1, 0, 2, 0): array([20,  0,  4,  0]),\n",
       " (1, 1, 0, 1): array([20, 11,  0, 11]),\n",
       " (1, 1, 1, 0): array([20, 12,  3,  0]),\n",
       " (1, 2, 0, 0): array([20, 12,  0,  0]),\n",
       " (2, 0, 0, 1): array([20,  0,  0, 11]),\n",
       " (2, 0, 1, 0): array([20,  0,  2,  0]),\n",
       " (2, 1, 0, 0): array([20, 11,  0,  0]),\n",
       " (3, 0, 0, 0): array([20,  0,  0,  0])}"
      ]
     },
     "execution_count": 68,
     "metadata": {},
     "output_type": "execute_result"
    }
   ],
   "source": [
    "test.payoff"
   ]
  },
  {
   "cell_type": "markdown",
   "metadata": {},
   "source": [
    "Monte Carlo method"
   ]
  },
  {
   "cell_type": "code",
   "execution_count": 95,
   "metadata": {
    "collapsed": true
   },
   "outputs": [],
   "source": [
    "def sample_group(population, group_size):\n",
    "    #basic check\n",
    "    assert np.sum(population) == 1.0,  \"Group has to be smaller than pop\"\n",
    "    #create a copy to mess around\n",
    "    #original_population = np.copy(np.array(population, dtype=int))\n",
    "    #number_of_strategies = len(original_population)\n",
    "    #nothing sampled at begining\n",
    "    sample = np.zeros_like(population)\n",
    "    for _ in range(group_size):\n",
    "        # determine \"winner\"\n",
    "        position = np.random.choice(range(len(population)), 1, p=population)[0] \n",
    "        # update sample and pop\n",
    "        sample[position] = sample[position] +1 \n",
    "        #original_population[position] = original_population[position] -1    \n",
    "    return sample"
   ]
  },
  {
   "cell_type": "code",
   "execution_count": 96,
   "metadata": {
    "collapsed": true
   },
   "outputs": [],
   "source": [
    "from collections import Counter"
   ]
  },
  {
   "cell_type": "code",
   "execution_count": 97,
   "metadata": {
    "collapsed": false
   },
   "outputs": [],
   "source": [
    "pop = [0.5, 0.2, 0.3]\n",
    "group_size = 3\n",
    "number_of_samples = 500000\n",
    "ans = []\n",
    "for _ in range(number_of_samples):\n",
    "    sample = tuple(sample_group(pop, group_size))\n",
    "    ans.append(sample)\n",
    "counter = Counter(ans)"
   ]
  },
  {
   "cell_type": "code",
   "execution_count": 98,
   "metadata": {
    "collapsed": false
   },
   "outputs": [
    {
     "name": "stdout",
     "output_type": "stream",
     "text": [
      "(0.0, 3.0, 0.0) 0.007886\n",
      "(3.0, 0.0, 0.0) 0.124566\n",
      "(1.0, 2.0, 0.0) 0.060552\n",
      "(2.0, 1.0, 0.0) 0.149962\n",
      "(2.0, 0.0, 1.0) 0.226004\n",
      "(0.0, 1.0, 2.0) 0.05367\n",
      "(1.0, 0.0, 2.0) 0.134956\n",
      "(1.0, 1.0, 1.0) 0.179856\n",
      "(0.0, 0.0, 3.0) 0.02654\n",
      "(0.0, 2.0, 1.0) 0.036008\n"
     ]
    }
   ],
   "source": [
    "for key in counter:\n",
    "    print(key, end=\" \")\n",
    "    print(counter[key]/number_of_samples)"
   ]
  },
  {
   "cell_type": "markdown",
   "metadata": {},
   "source": [
    "Multinomial Distribution "
   ]
  },
  {
   "cell_type": "code",
   "execution_count": 99,
   "metadata": {
    "collapsed": true
   },
   "outputs": [],
   "source": [
    "def multiply_fictoral_of_values(x):\n",
    "    to_return = 1\n",
    "    for i in range(len(x)):\n",
    "        to_return *= math.factorial(x[i])\n",
    "    return to_return"
   ]
  },
  {
   "cell_type": "code",
   "execution_count": 100,
   "metadata": {
    "collapsed": true
   },
   "outputs": [],
   "source": [
    "def multiply_raise_to_power_of_values(propotion, raise_factor):\n",
    "    to_return = 1\n",
    "    for K_i, k_i in zip(propotion, raise_factor):\n",
    "        to_return *= math.pow(K_i,k_i)\n",
    "    return to_return"
   ]
  },
  {
   "cell_type": "code",
   "execution_count": 101,
   "metadata": {
    "collapsed": false
   },
   "outputs": [],
   "source": [
    "def multinomial_dist(pop_fractions, group_composition):\n",
    "    t1=math.factorial(sum(group_composition))\n",
    "    t2=multiply_fictoral_of_values(group_composition)\n",
    "    t3=multiply_raise_to_power_of_values(pop_fractions, group_composition)\n",
    "    t4 =((t1/t2)*t3)\n",
    "    return t4\n",
    "    "
   ]
  },
  {
   "cell_type": "code",
   "execution_count": 103,
   "metadata": {
    "collapsed": false
   },
   "outputs": [
    {
     "data": {
      "text/plain": [
       "0.008000000000000002"
      ]
     },
     "execution_count": 103,
     "metadata": {},
     "output_type": "execute_result"
    }
   ],
   "source": [
    "multinomial_dist(pop, [0, 3, 0])"
   ]
  },
  {
   "cell_type": "markdown",
   "metadata": {},
   "source": [
    "Calculationg payoffs"
   ]
  },
  {
   "cell_type": "code",
   "execution_count": 104,
   "metadata": {
    "collapsed": false
   },
   "outputs": [],
   "source": [
    "def calculating_payoffs():\n",
    "    payoff = np.zeros_like(test.strategy_set)\n",
    "    for i in test.payoff:\n",
    "        payoff += multinomial_dist(pop_fraction, i) * test.payoff[i]\n",
    "    return payoff"
   ]
  },
  {
   "cell_type": "code",
   "execution_count": 105,
   "metadata": {
    "collapsed": false
   },
   "outputs": [
    {
     "data": {
      "text/plain": [
       "array([92.5, 24.764000000000003, 11.196, 84.7], dtype=object)"
      ]
     },
     "execution_count": 105,
     "metadata": {},
     "output_type": "execute_result"
    }
   ],
   "source": [
    "calculating_payoffs()"
   ]
  },
  {
   "cell_type": "code",
   "execution_count": 92,
   "metadata": {
    "collapsed": false
   },
   "outputs": [
    {
     "data": {
      "text/plain": [
       "1.0"
      ]
     },
     "execution_count": 92,
     "metadata": {},
     "output_type": "execute_result"
    }
   ],
   "source": [
    "0.18119 + 0.007862 + 0.125708 + 0.150528 + 0.22459 + 0.053714 + 0.059998 + 0.133904 + 0.026886+ 0.03562"
   ]
  },
  {
   "cell_type": "code",
   "execution_count": 106,
   "metadata": {
    "collapsed": true
   },
   "outputs": [],
   "source": [
    "space = [(1.0, 1.0, 1.0),\n",
    "(0.0, 3.0, 0.0),\n",
    "(3.0, 0.0, 0.0),\n",
    "(2.0, 1.0, 0.0), \n",
    "(2.0, 0.0, 1.0),\n",
    "(0.0, 1.0, 2.0), \n",
    "(1.0, 2.0, 0.0), \n",
    "(1.0, 0.0, 2.0), \n",
    "(0.0, 0.0, 3.0), \n",
    "(0.0, 2.0, 1.0) ]"
   ]
  },
  {
   "cell_type": "code",
   "execution_count": 107,
   "metadata": {
    "collapsed": false
   },
   "outputs": [
    {
     "data": {
      "text/plain": [
       "1.0"
      ]
     },
     "execution_count": 107,
     "metadata": {},
     "output_type": "execute_result"
    }
   ],
   "source": [
    "s = 0\n",
    "for t in space:\n",
    "    s += multinomial_dist([0.5, 0.2, 0.3], t)\n",
    "s\n"
   ]
  },
  {
   "cell_type": "code",
   "execution_count": null,
   "metadata": {
    "collapsed": true
   },
   "outputs": [],
   "source": []
  }
 ],
 "metadata": {
  "kernelspec": {
   "display_name": "Python 3",
   "language": "python",
   "name": "python3"
  },
  "language_info": {
   "codemirror_mode": {
    "name": "ipython",
    "version": 3
   },
   "file_extension": ".py",
   "mimetype": "text/x-python",
   "name": "python",
   "nbconvert_exporter": "python",
   "pygments_lexer": "ipython3",
   "version": "3.5.0"
  }
 },
 "nbformat": 4,
 "nbformat_minor": 0
}

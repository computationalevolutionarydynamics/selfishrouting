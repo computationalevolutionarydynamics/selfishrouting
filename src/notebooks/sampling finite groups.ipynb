{
 "cells": [
  {
   "cell_type": "code",
   "execution_count": 1,
   "metadata": {
    "collapsed": false
   },
   "outputs": [
    {
     "name": "stdout",
     "output_type": "stream",
     "text": [
      "Populating the interactive namespace from numpy and matplotlib\n"
     ]
    }
   ],
   "source": [
    "%pylab inline"
   ]
  },
  {
   "cell_type": "markdown",
   "metadata": {},
   "source": [
    "###Let's sample"
   ]
  },
  {
   "cell_type": "markdown",
   "metadata": {},
   "source": [
    "Suppose I have the population given by [5, 2, 3]. This means $N=10$, and we have three straetegies."
   ]
  },
  {
   "cell_type": "code",
   "execution_count": 8,
   "metadata": {
    "collapsed": true
   },
   "outputs": [],
   "source": [
    "original_population = np.array([5, 2, 3], dtype=int)"
   ]
  },
  {
   "cell_type": "markdown",
   "metadata": {},
   "source": [
    "I am interested figuring out what is the probability of sampling different groups of size 3. Since the population is finite, sampling is without replacement."
   ]
  },
  {
   "cell_type": "code",
   "execution_count": 4,
   "metadata": {
    "collapsed": true
   },
   "outputs": [],
   "source": [
    "import itertools"
   ]
  },
  {
   "cell_type": "code",
   "execution_count": 6,
   "metadata": {
    "collapsed": false
   },
   "outputs": [],
   "source": [
    "group_size = 3\n",
    "all_combinations = []\n",
    "for i in itertools.product(range(0, group_size+1), repeat=3):\n",
    "    if sum(i) == group_size:\n",
    "        all_combinations.append(i)    "
   ]
  },
  {
   "cell_type": "code",
   "execution_count": 7,
   "metadata": {
    "collapsed": false
   },
   "outputs": [
    {
     "data": {
      "text/plain": [
       "[(0, 0, 3),\n",
       " (0, 1, 2),\n",
       " (0, 2, 1),\n",
       " (0, 3, 0),\n",
       " (1, 0, 2),\n",
       " (1, 1, 1),\n",
       " (1, 2, 0),\n",
       " (2, 0, 1),\n",
       " (2, 1, 0),\n",
       " (3, 0, 0)]"
      ]
     },
     "execution_count": 7,
     "metadata": {},
     "output_type": "execute_result"
    }
   ],
   "source": [
    "all_combinations"
   ]
  },
  {
   "cell_type": "markdown",
   "metadata": {},
   "source": [
    "Let's figure out by simulation, what is the change of sampling a group (1,0,2)."
   ]
  },
  {
   "cell_type": "code",
   "execution_count": 88,
   "metadata": {
    "collapsed": true
   },
   "outputs": [],
   "source": [
    "original_population = np.array([5, 2, 3], dtype=int)\n",
    "group_size = 3"
   ]
  },
  {
   "cell_type": "code",
   "execution_count": 97,
   "metadata": {
    "collapsed": false
   },
   "outputs": [],
   "source": [
    "def sample_group(population, group_size):\n",
    "    #basic check\n",
    "    assert group_size <= np.sum(population), \"Group has to be smaller than pop\"\n",
    "    #create a copy to mess around\n",
    "    original_population = np.copy(np.array(population, dtype=int))\n",
    "    number_of_strategies = len(original_population)\n",
    "    #nothing sampled at begining\n",
    "    sample = np.zeros_like(original_population)\n",
    "    for _ in range(group_size):\n",
    "        # determine \"winner\"\n",
    "        position = np.random.choice(range(len(original_population)), 1, p=original_population/np.sum(original_population))[0] \n",
    "        # update sample and pop\n",
    "        sample[position] = sample[position] +1 \n",
    "        original_population[position] = original_population[position] -1    \n",
    "    return sample"
   ]
  },
  {
   "cell_type": "code",
   "execution_count": 104,
   "metadata": {
    "collapsed": false
   },
   "outputs": [
    {
     "data": {
      "text/plain": [
       "array([2, 0, 1])"
      ]
     },
     "execution_count": 104,
     "metadata": {},
     "output_type": "execute_result"
    }
   ],
   "source": [
    "sample_group([5, 2, 3], 3)"
   ]
  },
  {
   "cell_type": "markdown",
   "metadata": {},
   "source": [
    "### Montecarlo!"
   ]
  },
  {
   "cell_type": "code",
   "execution_count": 105,
   "metadata": {
    "collapsed": true
   },
   "outputs": [],
   "source": [
    "from collections import Counter"
   ]
  },
  {
   "cell_type": "code",
   "execution_count": 150,
   "metadata": {
    "collapsed": true
   },
   "outputs": [],
   "source": [
    "pop = [5, 2, 3]\n",
    "group_size = 3\n",
    "number_of_samples = 500000\n",
    "ans = []\n",
    "for _ in range(number_of_samples):\n",
    "    sample = tuple(sample_group(pop, group_size))\n",
    "    ans.append(sample)\n",
    "counter = Counter(ans)"
   ]
  },
  {
   "cell_type": "code",
   "execution_count": 151,
   "metadata": {
    "collapsed": false
   },
   "outputs": [
    {
     "name": "stdout",
     "output_type": "stream",
     "text": [
      "(1, 1, 1) 0.24991\n",
      "(0, 2, 1) 0.025112\n",
      "(2, 1, 0) 0.167432\n",
      "(2, 0, 1) 0.248386\n",
      "(0, 1, 2) 0.050312\n",
      "(3, 0, 0) 0.084242\n",
      "(1, 2, 0) 0.041256\n",
      "(1, 0, 2) 0.12499\n",
      "(0, 0, 3) 0.00836\n"
     ]
    }
   ],
   "source": [
    "for key in counter:\n",
    "    print(key, end=\" \")\n",
    "    print(counter[key]/number_of_samples)"
   ]
  },
  {
   "cell_type": "markdown",
   "metadata": {},
   "source": [
    "###Now using probability theory\n",
    "####*Hint*: Multivariate Hypergeometric"
   ]
  },
  {
   "cell_type": "code",
   "execution_count": 133,
   "metadata": {
    "collapsed": false
   },
   "outputs": [
    {
     "data": {
      "text/plain": [
       "[5, 2, 3]"
      ]
     },
     "execution_count": 133,
     "metadata": {},
     "output_type": "execute_result"
    }
   ],
   "source": [
    "pop"
   ]
  },
  {
   "cell_type": "code",
   "execution_count": 142,
   "metadata": {
    "collapsed": false
   },
   "outputs": [
    {
     "data": {
      "text/plain": [
       "(1, 0, 2)"
      ]
     },
     "execution_count": 142,
     "metadata": {},
     "output_type": "execute_result"
    }
   ],
   "source": [
    "target = (1, 0, 2)\n",
    "target"
   ]
  },
  {
   "cell_type": "code",
   "execution_count": 143,
   "metadata": {
    "collapsed": true
   },
   "outputs": [],
   "source": [
    "import scipy as sp"
   ]
  },
  {
   "cell_type": "code",
   "execution_count": 154,
   "metadata": {
    "collapsed": true
   },
   "outputs": [],
   "source": [
    "def multivariate_hypergeometric(pop, target):\n",
    "    N = sum(pop)\n",
    "    n = sum(target)\n",
    "    assert n <= N, \"Give me something that makes sense!\"\n",
    "    assert len(pop) == len(target), \"Give me something that makes sense!\"\n",
    "    product = 1.0\n",
    "    for K_i, k_i in zip(pop, target):\n",
    "        product = product*sp.misc.comb(K_i, k_i)\n",
    "    return product/sp.misc.comb(N, n)"
   ]
  },
  {
   "cell_type": "code",
   "execution_count": 155,
   "metadata": {
    "collapsed": false
   },
   "outputs": [
    {
     "data": {
      "text/plain": [
       "0.125"
      ]
     },
     "execution_count": 155,
     "metadata": {},
     "output_type": "execute_result"
    }
   ],
   "source": [
    "multivariate_hypergeometric(pop, target)"
   ]
  },
  {
   "cell_type": "code",
   "execution_count": null,
   "metadata": {
    "collapsed": true
   },
   "outputs": [],
   "source": []
  },
  {
   "cell_type": "code",
   "execution_count": null,
   "metadata": {
    "collapsed": true
   },
   "outputs": [],
   "source": []
  }
 ],
 "metadata": {
  "kernelspec": {
   "display_name": "Python 3",
   "language": "python",
   "name": "python3"
  },
  "language_info": {
   "codemirror_mode": {
    "name": "ipython",
    "version": 3
   },
   "file_extension": ".py",
   "mimetype": "text/x-python",
   "name": "python",
   "nbconvert_exporter": "python",
   "pygments_lexer": "ipython3",
   "version": "3.3.5"
  }
 },
 "nbformat": 4,
 "nbformat_minor": 0
}
